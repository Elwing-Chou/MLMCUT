{
  "nbformat": 4,
  "nbformat_minor": 0,
  "metadata": {
    "colab": {
      "name": "table.ipynb",
      "version": "0.3.2",
      "provenance": []
    },
    "kernelspec": {
      "name": "python3",
      "display_name": "Python 3"
    }
  },
  "cells": [
    {
      "cell_type": "code",
      "metadata": {
        "id": "kL5bXt9f7zKB",
        "colab_type": "code",
        "colab": {}
      },
      "source": [
        "from urllib.request import urlopen\n",
        "from bs4 import BeautifulSoup\n",
        "url = \"http://insideairbnb.com/get-the-data.html\"\n",
        "response = urlopen(url)\n",
        "html = BeautifulSoup(response)"
      ],
      "execution_count": 0,
      "outputs": []
    },
    {
      "cell_type": "code",
      "metadata": {
        "id": "qExce2HM9EID",
        "colab_type": "code",
        "colab": {}
      },
      "source": [
        "from urllib.request import urlretrieve\n",
        "tables = html.find_all(\"table\")\n",
        "regions = html.find_all(\"h2\")\n",
        "for (i, t) in enumerate(tables):\n",
        "    r = regions[i].text\n",
        "    body = t.find(\"tbody\")\n",
        "    row = body.find_all(\"tr\")[3]\n",
        "    country = row.find_all(\"td\")[1].text\n",
        "    listing = row.find_all(\"td\")[2].find(\"a\")[\"href\"]\n",
        "    if \"United States\" in r:\n",
        "        print(country, listing)\n",
        "        fname = country + \".csv\"\n",
        "        try:\n",
        "            urlretrieve(listing, fname)\n",
        "        except:\n",
        "            print(\"跳過\")"
      ],
      "execution_count": 0,
      "outputs": []
    },
    {
      "cell_type": "code",
      "metadata": {
        "id": "yiQ7Z5wz9NE1",
        "colab_type": "code",
        "colab": {
          "base_uri": "https://localhost:8080/",
          "height": 470
        },
        "outputId": "07a6b202-5649-40e6-af3c-8fe90dc191d4"
      },
      "source": [
        "import glob\n",
        "glob.glob(\"*.csv\")"
      ],
      "execution_count": 13,
      "outputs": [
        {
          "output_type": "execute_result",
          "data": {
            "text/plain": [
              "['Twin Cities MSA.csv',\n",
              " 'Oakland.csv',\n",
              " 'New York City.csv',\n",
              " 'Rhode Island.csv',\n",
              " 'San Francisco.csv',\n",
              " 'Denver.csv',\n",
              " 'Portland.csv',\n",
              " 'Nashville.csv',\n",
              " 'Chicago.csv',\n",
              " 'Pacific Grove.csv',\n",
              " 'San Diego.csv',\n",
              " 'Austin.csv',\n",
              " 'Asheville.csv',\n",
              " 'Salem, OR.csv',\n",
              " 'Boston.csv',\n",
              " 'Hawaii.csv',\n",
              " 'Los Angeles.csv',\n",
              " 'Washington, D.C..csv',\n",
              " 'Cambridge.csv',\n",
              " 'Broward County.csv',\n",
              " 'Santa Clara County.csv',\n",
              " 'Clark County, NV.csv',\n",
              " 'Seattle.csv',\n",
              " 'New Orleans.csv',\n",
              " 'Columbus.csv',\n",
              " 'Jersey City.csv',\n",
              " 'Santa Cruz County.csv']"
            ]
          },
          "metadata": {
            "tags": []
          },
          "execution_count": 13
        }
      ]
    }
  ]
}