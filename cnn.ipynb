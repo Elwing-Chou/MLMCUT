{
  "nbformat": 4,
  "nbformat_minor": 0,
  "metadata": {
    "colab": {
      "name": "cnn.ipynb",
      "version": "0.3.2",
      "provenance": []
    },
    "kernelspec": {
      "name": "python3",
      "display_name": "Python 3"
    },
    "accelerator": "GPU"
  },
  "cells": [
    {
      "cell_type": "code",
      "metadata": {
        "id": "ad_89DEOkr3P",
        "colab_type": "code",
        "outputId": "4a661b55-2322-49d3-bda0-6e4f48a67f20",
        "colab": {
          "base_uri": "https://localhost:8080/",
          "height": 68
        }
      },
      "source": [
        "from keras.datasets.cifar10 import load_data\n",
        "(x_train, y_train), (x_test, y_test) = load_data()"
      ],
      "execution_count": 1,
      "outputs": [
        {
          "output_type": "stream",
          "text": [
            "Using TensorFlow backend.\n"
          ],
          "name": "stderr"
        },
        {
          "output_type": "stream",
          "text": [
            "Downloading data from https://www.cs.toronto.edu/~kriz/cifar-10-python.tar.gz\n",
            "170500096/170498071 [==============================] - 9s 0us/step\n"
          ],
          "name": "stdout"
        }
      ]
    },
    {
      "cell_type": "code",
      "metadata": {
        "id": "DELrJYoLmGVY",
        "colab_type": "code",
        "outputId": "0910a6e2-ddc3-4452-922e-8deaea2beee1",
        "colab": {
          "base_uri": "https://localhost:8080/",
          "height": 51
        }
      },
      "source": [
        "print(x_train.shape)\n",
        "print(x_test.shape)"
      ],
      "execution_count": 2,
      "outputs": [
        {
          "output_type": "stream",
          "text": [
            "(50000, 32, 32, 3)\n",
            "(10000, 32, 32, 3)\n"
          ],
          "name": "stdout"
        }
      ]
    },
    {
      "cell_type": "code",
      "metadata": {
        "id": "hGwDhQQimdBq",
        "colab_type": "code",
        "colab": {}
      },
      "source": [
        "trans = [\"airplane\", \"automobile\", \"bird\", \"cat\",\n",
        "         \"deer\", \"dog\", \"frog\", \"horse\", \"ship\", \"truck\"]"
      ],
      "execution_count": 0,
      "outputs": []
    },
    {
      "cell_type": "code",
      "metadata": {
        "id": "hqkXHR9lmNtM",
        "colab_type": "code",
        "colab": {
          "base_uri": "https://localhost:8080/",
          "height": 303
        },
        "outputId": "63a037ee-fced-44f4-8b46-6812b3b4fea9"
      },
      "source": [
        "import matplotlib.pyplot as plt\n",
        "import random\n",
        "c = random.randint(0, 49999)\n",
        "print(trans[y_train[c][0]])\n",
        "plt.imshow(x_train[c])"
      ],
      "execution_count": 4,
      "outputs": [
        {
          "output_type": "stream",
          "text": [
            "ship\n"
          ],
          "name": "stdout"
        },
        {
          "output_type": "execute_result",
          "data": {
            "text/plain": [
              "<matplotlib.image.AxesImage at 0x7fd334a9ba58>"
            ]
          },
          "metadata": {
            "tags": []
          },
          "execution_count": 4
        },
        {
          "output_type": "display_data",
          "data": {
            "image/png": "[encoded data removed]",
            "text/plain": [
              "<Figure size 432x288 with 1 Axes>"
            ]
          },
          "metadata": {
            "tags": []
          }
        }
      ]
    },
    {
      "cell_type": "code",
      "metadata": {
        "id": "ezOBAR7AnSqT",
        "colab_type": "code",
        "outputId": "bf3ba0f5-b395-4d34-8b16-f0c927627416",
        "colab": {
          "base_uri": "https://localhost:8080/",
          "height": 740
        }
      },
      "source": [
        "from keras.models import Sequential\n",
        "from keras.layers import Conv2D, MaxPooling2D\n",
        "from keras.layers import Flatten, Dense\n",
        "cnn = Sequential()\n",
        "# 1filter 3 * 3 * 3  * (64) + 64(bias) = 1792\n",
        "cnn.add(Conv2D(64, (3, 3), \n",
        "               padding=\"same\", \n",
        "               activation=\"relu\", \n",
        "               input_shape=(32, 32, 3)))\n",
        "cnn.add(MaxPooling2D())\n",
        "cnn.add(Conv2D(128, (3, 3), \n",
        "               padding=\"same\", \n",
        "               activation=\"relu\"))\n",
        "cnn.add(MaxPooling2D())\n",
        "cnn.add(Conv2D(256, (3, 3), \n",
        "               padding=\"same\", \n",
        "               activation=\"relu\"))\n",
        "cnn.add(MaxPooling2D())\n",
        "cnn.add(Conv2D(512, (3, 3), \n",
        "               padding=\"same\", \n",
        "               activation=\"relu\"))\n",
        "cnn.add(MaxPooling2D())\n",
        "cnn.add(Flatten())\n",
        "cnn.add(Dense(512, activation=\"relu\"))\n",
        "cnn.add(Dense(128, activation=\"relu\"))\n",
        "cnn.add(Dense(10, activation=\"softmax\"))\n",
        "cnn.summary()"
      ],
      "execution_count": 5,
      "outputs": [
        {
          "output_type": "stream",
          "text": [
            "WARNING: Logging before flag parsing goes to stderr.\n",
            "W0830 08:51:06.596043 140546618480512 deprecation_wrapper.py:119] From /usr/local/lib/python3.6/dist-packages/keras/backend/tensorflow_backend.py:66: The name tf.get_default_graph is deprecated. Please use tf.compat.v1.get_default_graph instead.\n",
            "\n",
            "W0830 08:51:06.641399 140546618480512 deprecation_wrapper.py:119] From /usr/local/lib/python3.6/dist-packages/keras/backend/tensorflow_backend.py:541: The name tf.placeholder is deprecated. Please use tf.compat.v1.placeholder instead.\n",
            "\n",
            "W0830 08:51:06.651330 140546618480512 deprecation_wrapper.py:119] From /usr/local/lib/python3.6/dist-packages/keras/backend/tensorflow_backend.py:4432: The name tf.random_uniform is deprecated. Please use tf.random.uniform instead.\n",
            "\n",
            "W0830 08:51:06.678757 140546618480512 deprecation_wrapper.py:119] From /usr/local/lib/python3.6/dist-packages/keras/backend/tensorflow_backend.py:4267: The name tf.nn.max_pool is deprecated. Please use tf.nn.max_pool2d instead.\n",
            "\n"
          ],
          "name": "stderr"
        },
        {
          "output_type": "stream",
          "text": [
            "Model: \"sequential_1\"\n",
            "_________________________________________________________________\n",
            "Layer (type)                 Output Shape              Param #   \n",
            "=================================================================\n",
            "conv2d_1 (Conv2D)            (None, 32, 32, 64)        1792      \n",
            "_________________________________________________________________\n",
            "max_pooling2d_1 (MaxPooling2 (None, 16, 16, 64)        0         \n",
            "_________________________________________________________________\n",
            "conv2d_2 (Conv2D)            (None, 16, 16, 128)       73856     \n",
            "_________________________________________________________________\n",
            "max_pooling2d_2 (MaxPooling2 (None, 8, 8, 128)         0         \n",
            "_________________________________________________________________\n",
            "conv2d_3 (Conv2D)            (None, 8, 8, 256)         295168    \n",
            "_________________________________________________________________\n",
            "max_pooling2d_3 (MaxPooling2 (None, 4, 4, 256)         0         \n",
            "_________________________________________________________________\n",
            "conv2d_4 (Conv2D)            (None, 4, 4, 512)         1180160   \n",
            "_________________________________________________________________\n",
            "max_pooling2d_4 (MaxPooling2 (None, 2, 2, 512)         0         \n",
            "_________________________________________________________________\n",
            "flatten_1 (Flatten)          (None, 2048)              0         \n",
            "_________________________________________________________________\n",
            "dense_1 (Dense)              (None, 512)               1049088   \n",
            "_________________________________________________________________\n",
            "dense_2 (Dense)              (None, 128)               65664     \n",
            "_________________________________________________________________\n",
            "dense_3 (Dense)              (None, 10)                1290      \n",
            "=================================================================\n",
            "Total params: 2,667,018\n",
            "Trainable params: 2,667,018\n",
            "Non-trainable params: 0\n",
            "_________________________________________________________________\n"
          ],
          "name": "stdout"
        }
      ]
    },
    {
      "cell_type": "code",
      "metadata": {
        "id": "Lum7wmctrPZ5",
        "colab_type": "code",
        "colab": {
          "base_uri": "https://localhost:8080/",
          "height": 51
        },
        "outputId": "25dbf923-2526-4562-d60f-880176cd6dd2"
      },
      "source": [
        "from keras.utils.np_utils import to_categorical\n",
        "x_train_norm = x_train / 255\n",
        "x_test_norm = x_test / 255\n",
        "y_train_cat = to_categorical(y_train)\n",
        "y_test_cat = to_categorical(y_test)\n",
        "print(y_train[0])\n",
        "print(y_train_cat[0])"
      ],
      "execution_count": 6,
      "outputs": [
        {
          "output_type": "stream",
          "text": [
            "[6]\n",
            "[0. 0. 0. 0. 0. 0. 1. 0. 0. 0.]\n"
          ],
          "name": "stdout"
        }
      ]
    },
    {
      "cell_type": "code",
      "metadata": {
        "id": "gkYgCuHtsQUt",
        "colab_type": "code",
        "colab": {
          "base_uri": "https://localhost:8080/",
          "height": 106
        },
        "outputId": "e368a333-a991-46dc-f5fa-697adf38c160"
      },
      "source": [
        "# 1: sigmoid + binary_crossentropy\n",
        "# >2: softmax + categorical_crossentropy\n",
        "cnn.compile(loss=\"categorical_crossentropy\",\n",
        "            optimizer=\"adam\",\n",
        "            metrics=[\"accuracy\"])"
      ],
      "execution_count": 7,
      "outputs": [
        {
          "output_type": "stream",
          "text": [
            "W0830 08:51:07.820145 140546618480512 deprecation_wrapper.py:119] From /usr/local/lib/python3.6/dist-packages/keras/optimizers.py:793: The name tf.train.Optimizer is deprecated. Please use tf.compat.v1.train.Optimizer instead.\n",
            "\n",
            "W0830 08:51:07.853025 140546618480512 deprecation_wrapper.py:119] From /usr/local/lib/python3.6/dist-packages/keras/backend/tensorflow_backend.py:3576: The name tf.log is deprecated. Please use tf.math.log instead.\n",
            "\n"
          ],
          "name": "stderr"
        }
      ]
    },
    {
      "cell_type": "code",
      "metadata": {
        "id": "IVUOLeRGsVCY",
        "colab_type": "code",
        "colab": {
          "base_uri": "https://localhost:8080/",
          "height": 500
        },
        "outputId": "549ef8f0-cb34-4cf6-ee16-c7a75f1b3379"
      },
      "source": [
        "# batch_size: 看多少筆再調整\n",
        "# epochs: 整本書要看幾遍(控制模型最好的重要關鍵)\n",
        "cnn.fit(x_train_norm, y_train_cat,\n",
        "        batch_size=200,\n",
        "        epochs=10,\n",
        "        validation_split=0.1,\n",
        "        verbose=2)"
      ],
      "execution_count": 8,
      "outputs": [
        {
          "output_type": "stream",
          "text": [
            "W0830 08:51:18.772041 140546618480512 deprecation.py:323] From /usr/local/lib/python3.6/dist-packages/tensorflow/python/ops/math_grad.py:1250: add_dispatch_support.<locals>.wrapper (from tensorflow.python.ops.array_ops) is deprecated and will be removed in a future version.\n",
            "Instructions for updating:\n",
            "Use tf.where in 2.0, which has the same broadcast rule as np.where\n",
            "W0830 08:51:18.863585 140546618480512 deprecation_wrapper.py:119] From /usr/local/lib/python3.6/dist-packages/keras/backend/tensorflow_backend.py:1033: The name tf.assign_add is deprecated. Please use tf.compat.v1.assign_add instead.\n",
            "\n"
          ],
          "name": "stderr"
        },
        {
          "output_type": "stream",
          "text": [
            "Train on 45000 samples, validate on 5000 samples\n",
            "Epoch 1/10\n",
            " - 19s - loss: 1.6160 - acc: 0.4006 - val_loss: 1.2445 - val_acc: 0.5496\n",
            "Epoch 2/10\n",
            " - 12s - loss: 1.1137 - acc: 0.6001 - val_loss: 0.9638 - val_acc: 0.6614\n",
            "Epoch 3/10\n",
            " - 12s - loss: 0.8519 - acc: 0.6988 - val_loss: 0.7857 - val_acc: 0.7250\n",
            "Epoch 4/10\n",
            " - 12s - loss: 0.6927 - acc: 0.7600 - val_loss: 0.7403 - val_acc: 0.7450\n",
            "Epoch 5/10\n",
            " - 12s - loss: 0.5556 - acc: 0.8052 - val_loss: 0.7082 - val_acc: 0.7582\n",
            "Epoch 6/10\n",
            " - 12s - loss: 0.4510 - acc: 0.8416 - val_loss: 0.7035 - val_acc: 0.7658\n",
            "Epoch 7/10\n",
            " - 12s - loss: 0.3393 - acc: 0.8823 - val_loss: 0.7097 - val_acc: 0.7782\n",
            "Epoch 8/10\n",
            " - 12s - loss: 0.2278 - acc: 0.9222 - val_loss: 0.7961 - val_acc: 0.7738\n",
            "Epoch 9/10\n",
            " - 12s - loss: 0.1751 - acc: 0.9387 - val_loss: 0.8530 - val_acc: 0.7712\n",
            "Epoch 10/10\n",
            " - 12s - loss: 0.1227 - acc: 0.9571 - val_loss: 0.8837 - val_acc: 0.7826\n"
          ],
          "name": "stdout"
        },
        {
          "output_type": "execute_result",
          "data": {
            "text/plain": [
              "<keras.callbacks.History at 0x7fd3318827b8>"
            ]
          },
          "metadata": {
            "tags": []
          },
          "execution_count": 8
        }
      ]
    },
    {
      "cell_type": "code",
      "metadata": {
        "id": "c0jS3z9Puxz6",
        "colab_type": "code",
        "colab": {
          "base_uri": "https://localhost:8080/",
          "height": 51
        },
        "outputId": "a7e24e44-ac6f-4153-f962-ba7ccd0e290f"
      },
      "source": [
        "cnn.evaluate(x_test_norm, y_test_cat)"
      ],
      "execution_count": 9,
      "outputs": [
        {
          "output_type": "stream",
          "text": [
            "10000/10000 [==============================] - 2s 235us/step\n"
          ],
          "name": "stdout"
        },
        {
          "output_type": "execute_result",
          "data": {
            "text/plain": [
              "[0.9621178517341614, 0.7648]"
            ]
          },
          "metadata": {
            "tags": []
          },
          "execution_count": 9
        }
      ]
    }
  ]
}